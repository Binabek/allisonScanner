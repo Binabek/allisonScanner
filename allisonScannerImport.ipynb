{
 "cells": [
  {
   "cell_type": "code",
   "execution_count": null,
   "id": "5bbe63d7-3c12-4b88-b6aa-e71a2b95a3ef",
   "metadata": {},
   "outputs": [],
   "source": [
    "import numpy as np\n",
    "import re\n",
    "from matplotlib import pyplot as plt"
   ]
  },
  {
   "cell_type": "code",
   "execution_count": null,
   "id": "4453e946-a651-4b71-b9a8-ace12056a27d",
   "metadata": {},
   "outputs": [],
   "source": [
    "#fn = \"/home/john/Documents/AllisonScanner_20240820/LEBTAllisonScan-2024-08-20_11-10.csv\"\n",
    "fn = \"/mnt/srf-proton/PXIE Instrumentation/Emittance Scanner Data/20240905/LEBTAllisonScan-2024-09-05_19-22.csv\""
   ]
  },
  {
   "cell_type": "code",
   "execution_count": null,
   "id": "6ed8fd4f-f6b4-432c-bfc4-0c2d902da014",
   "metadata": {},
   "outputs": [],
   "source": [
    "#search for slice headers, and pull metadata from file\n",
    "f = open(fn,\"r\")\n",
    "\n",
    "sliceArr = []\n",
    "for i,line in enumerate(f):\n",
    "    if re.match(\"Slice\\s[0-9]{3}\",line):\n",
    "        sliceArr.append(i)\n",
    "    elif re.match(\"Angle\\sStart\",line):\n",
    "        angIni = float(line.split(\",\")[-1])\n",
    "    elif re.match(\"Angle\\sStop\",line):\n",
    "        angFin = float(line.split(\",\")[-1])\n",
    "    elif re.match(\"Angle\\sDelta\",line):\n",
    "        angDel = float(line.split(\",\")[-1])\n",
    "    elif re.match(\"Position\\sStart\",line):\n",
    "        posIni = float(line.split(\",\")[-1])\n",
    "    elif re.match(\"Position\\sStop\",line):\n",
    "        posFin = float(line.split(\",\")[-1])\n",
    "    elif re.match(\"Position\\sDelta\",line):\n",
    "        posDel = float(line.split(\",\")[-1])\n",
    "    elif re.match(\"Bin\\s1\\sOffset\",line):\n",
    "        binOff = int(float(line.split(\",\")[-1]))\n",
    "    elif re.match(\"Number\\sBins\",line):\n",
    "        binN = int(float(line.split(\",\")[-1]))\n",
    "    elif re.match(\"Bin\\sDelta\",line):\n",
    "        binDel = int(float(line.split(\",\")[-1]))\n",
    "    elif re.match(\"Bin\\sLength\",line):\n",
    "        binLen = int(float(line.split(\",\")[-1]))\n",
    "    elif re.match(\"U\\(eV\\)\",line):\n",
    "        standT = float(line.split(\",\")[-1])\n",
    "\n",
    "f.close()"
   ]
  },
  {
   "cell_type": "code",
   "execution_count": null,
   "id": "65b68043-3aa1-4bb1-81a4-d18034350456",
   "metadata": {},
   "outputs": [],
   "source": [
    "#construct arrays of positional and angle data\n",
    "#assuming angle is in milliradians\n",
    "angArr = np.arange(angIni,angFin+angDel/2,angDel)*1e-3\n",
    "posArr = -np.arange(posIni,posFin+posDel/2,posDel)\n",
    "\n",
    "#try and calculate voltage back from angle\n",
    "#using data output file parameters\n",
    "plateG = 7.789e-3\n",
    "plateL = 0.106\n",
    "vArr = 4*standT*plateG*angArr/plateL\n",
    "print(f\"Maximum Voltage on Plates: {round(np.abs(vArr[0]),0)} [V]\")\n",
    "\n",
    "#Same values from the PIXE publication\n",
    "pixeG= 7.4e-3\n",
    "pixeD1 = 2e-4\n",
    "pixeD2 = 6.5e-4\n",
    "pixeL = 95.8e-3\n",
    "pixeL1 = 17e-3\n",
    "pixeL2 = 5e-3\n",
    "corrLen = pixeL*(pixeL + 2*pixeL2)/(pixeL + pixeL1 + pixeL2)\n",
    "\n",
    "print(f\"Output Length: {plateL}\")\n",
    "print(f\"Correction factor included length: {corrLen}\")\n",
    "print(f\"Percent Diff = {1 - corrLen/plateL}\")\n",
    "\n",
    "#store number of position and agular sample points for slicing\n",
    "vN = vArr.shape[0]\n",
    "posN = posArr.shape[0]"
   ]
  },
  {
   "cell_type": "code",
   "execution_count": null,
   "id": "26f407c2-3e8a-40f9-ae76-187e66f596c0",
   "metadata": {},
   "outputs": [],
   "source": [
    "#calculations for only proton, can expand for other ions\n",
    "#effect on angle is small\n",
    "pMass = 9.38272089e8 #proton mass in eV\n",
    "T = 5e4 #kinetic energy in eV\n",
    "\n",
    "#relatavistic parameters\n",
    "pGamma = 1 + T/pMass\n",
    "pBeta = np.sqrt(1 - pGamma**-2)\n",
    "pE = pMass + T\n",
    "\n",
    "relAng = np.arctan2(vArr*plateL,plateG*pE*pBeta**2)/2\n",
    "print(f\"Maximum Angle at 50keV: {np.abs(relAng[0])*1e3} [mrad]\")"
   ]
  },
  {
   "cell_type": "code",
   "execution_count": null,
   "id": "84952fe3-0ac7-4015-9ab0-64223a6e616c",
   "metadata": {},
   "outputs": [],
   "source": [
    "#extract data from csv, slice index by slice index\n",
    "#depends on the exact format of the outuput file\n",
    "#if output changes this whole read operation needs to change\n",
    "fullDat = np.zeros([binN,vN,posN])\n",
    "\n",
    "for i,s in enumerate(sliceArr):\n",
    "    fullDat[i] = -np.genfromtxt(fn,delimiter=\",\",usecols=np.arange(1,posN+1),max_rows=vN,skip_header=s+14)"
   ]
  },
  {
   "cell_type": "code",
   "execution_count": null,
   "id": "cd823b54-b8b6-4648-803a-759fbd0279b7",
   "metadata": {},
   "outputs": [],
   "source": [
    "sumDat = np.sum(fullDat,axis=0)"
   ]
  },
  {
   "cell_type": "code",
   "execution_count": null,
   "id": "a57eddf3-00c0-4f40-aa24-a722023026e1",
   "metadata": {},
   "outputs": [],
   "source": [
    "fig,ax = plt.subplots(layout=\"constrained\")\n",
    "\n",
    "x,y = np.meshgrid(posArr,relAng*1e3)\n",
    "c = ax.pcolormesh(x,y,sumDat,cmap=\"magma\")\n",
    "ax.set_xlabel(\"Slit Position [mm]\")\n",
    "ax.set_ylabel(\"Reported Angle [mrad]\")\n",
    "fig.colorbar(c,label=\"Integrated Intensity [arb.]\")\n",
    "#plt.savefig(\"phaseSpace.svg\",format=\"svg\")"
   ]
  },
  {
   "cell_type": "code",
   "execution_count": null,
   "id": "7b82ce35-3285-4cbd-b9df-c37f79e1e83a",
   "metadata": {},
   "outputs": [],
   "source": [
    "intensity = np.sum(np.sum(fullDat,axis=1),axis=1)"
   ]
  },
  {
   "cell_type": "code",
   "execution_count": null,
   "id": "94d46b34-8ee9-42ca-9f6e-50de10879d0b",
   "metadata": {},
   "outputs": [],
   "source": [
    "fig,ax = plt.subplots(layout=\"constrained\")\n",
    "\n",
    "t1 = 13\n",
    "t2 = 23\n",
    "t3 = 50\n",
    "t4 = 63\n",
    "\n",
    "ax.plot(intensity,c=\"b\")\n",
    "ax.set_xlabel(\"Temporal Bin\")\n",
    "ax.set_ylabel(\"Integrated Intensity [arb.]\")\n",
    "ax.fill_between((t1,t2),0,700,color=\"tab:red\",alpha=0.5,zorder=-1,label=\"Plasma Formation\")\n",
    "ax.fill_between((t2,t3),0,700,color=\"tab:blue\",alpha=0.5,zorder=-1,label=\"Stable Plasma\")\n",
    "ax.fill_between((t3,t4),0,700,color=\"tab:green\",alpha=0.5,zorder=-1,label=\"Extractor Pulse\")\n",
    "ax.legend()\n",
    "#plt.savefig(\"temporalSignalSpectrometer.svg\",format=\"svg\")"
   ]
  },
  {
   "cell_type": "code",
   "execution_count": null,
   "id": "a9a6f917-8a64-4c0c-bdd4-58903f379f00",
   "metadata": {},
   "outputs": [],
   "source": [
    "import matplotlib.cm as cm\n",
    "from matplotlib.colors import Normalize\n",
    "\n",
    "plasSum = np.sum(fullDat[t1:t2],axis=0)/(t2-t1)\n",
    "shelfSum = np.sum(fullDat[t2:t3],axis=0)/(t3-t2)\n",
    "extSum = np.sum(fullDat[t3:t4],axis=0)/(t4-t3)\n",
    "\n",
    "minC = np.min((np.min(plasSum),np.min(shelfSum),np.min(extSum)))\n",
    "maxC = np.max((np.max(plasSum),np.max(shelfSum),np.max(extSum)))\n",
    "print(minC,maxC)\n",
    "\n",
    "fig,ax = plt.subplots(ncols = 3,figsize=(13,4),layout=\"constrained\")\n",
    "\n",
    "cmap = plt.get_cmap(\"magma\")\n",
    "normalizer = Normalize(minC, maxC)\n",
    "im = cm.ScalarMappable(cmap = cmap,norm=normalizer)\n",
    "\n",
    "ax[0].pcolormesh(x,y,plasSum,cmap=cmap,norm=normalizer)\n",
    "ax[0].set_ylabel(\"Reported Angle [mrad]\")\n",
    "ax[0].set_xlabel(\"Slit Position [mm]\")\n",
    "ax[0].set_title(\"Plasma Formation\")\n",
    "\n",
    "ax[1].pcolormesh(x,y,shelfSum,cmap=cmap,norm=normalizer)\n",
    "ax[1].set_xlabel(\"Slit Position [mm]\")\n",
    "ax[1].set_title(\"Stable Plasma, Background\")\n",
    "\n",
    "ax[2].pcolormesh(x,y,extSum,cmap=cmap,norm=normalizer)\n",
    "ax[2].set_xlabel(\"Slit Position [mm]\")\n",
    "ax[2].set_title(\"Extractor Current\")\n",
    "\n",
    "fig.colorbar(im,ax=ax.ravel().tolist(),label=\"Average Intensity over Range [arb.]\")\n",
    "#plt.savefig(\"temporalDistributionsSpectrometer.svg\",format=\"svg\")"
   ]
  },
  {
   "cell_type": "code",
   "execution_count": null,
   "id": "358b0341-6290-43e3-a19a-bf7230ae745a",
   "metadata": {},
   "outputs": [],
   "source": []
  }
 ],
 "metadata": {
  "kernelspec": {
   "display_name": "Python 3 (ipykernel)",
   "language": "python",
   "name": "python3"
  },
  "language_info": {
   "codemirror_mode": {
    "name": "ipython",
    "version": 3
   },
   "file_extension": ".py",
   "mimetype": "text/x-python",
   "name": "python",
   "nbconvert_exporter": "python",
   "pygments_lexer": "ipython3",
   "version": "3.8.10"
  }
 },
 "nbformat": 4,
 "nbformat_minor": 5
}
