{
 "cells": [
  {
   "cell_type": "code",
   "execution_count": null,
   "id": "954d69a6-2cf3-4fea-83ff-778b6e0b75f4",
   "metadata": {},
   "outputs": [],
   "source": [
    "import numpy as np\n",
    "from matplotlib import pyplot as plt\n",
    "\n",
    "import importAliScan as ia"
   ]
  },
  {
   "cell_type": "code",
   "execution_count": null,
   "id": "8c83bdca-638d-4653-bd6d-59c7a83d49ee",
   "metadata": {},
   "outputs": [],
   "source": [
    "fnArr = [\"/mnt/srf-proton/PXIE Instrumentation/Emittance Scanner Data/20240822/LEBTAllisonScan-2024-08-22_16-26.csv\",\n",
    "         \"/mnt/srf-proton/PXIE Instrumentation/Emittance Scanner Data/20240822/LEBTAllisonScan-2024-08-22_17-08.csv\",\n",
    "         \"/mnt/srf-proton/PXIE Instrumentation/Emittance Scanner Data/20240822/LEBTAllisonScan-2024-08-22_17-48.csv\"]"
   ]
  },
  {
   "cell_type": "code",
   "execution_count": null,
   "id": "82ac03c1-8086-4a89-9066-f147e024119e",
   "metadata": {},
   "outputs": [],
   "source": [
    "angList = []\n",
    "posList = []\n",
    "datList = []\n",
    "\n",
    "for fn in fnArr:\n",
    "    full, pos, ang = ia.importRaw(fn)\n",
    "    datList.append(full)\n",
    "    posList.append(pos)\n",
    "    angList.append(ang)"
   ]
  },
  {
   "cell_type": "code",
   "execution_count": null,
   "id": "97883c1f-b457-496b-97af-b20bdb4edc68",
   "metadata": {},
   "outputs": [],
   "source": [
    "x,y = np.meshgrid(posList[0],angList[0]*1e3)"
   ]
  },
  {
   "cell_type": "code",
   "execution_count": null,
   "id": "5e9b4d27-3343-402d-a1af-f6427efea333",
   "metadata": {},
   "outputs": [],
   "source": [
    "plt.pcolormesh(x,y,np.sum(datList[0],axis=0),cmap=\"magma\")"
   ]
  },
  {
   "cell_type": "code",
   "execution_count": null,
   "id": "73fb747f-6149-4918-af1e-842bb53b4015",
   "metadata": {},
   "outputs": [],
   "source": [
    "plt.plot(np.sum(np.sum(datList[0],axis=1),axis=1))"
   ]
  },
  {
   "cell_type": "code",
   "execution_count": null,
   "id": "3689f8bd-06be-4f43-b5c7-85f3f774eb4c",
   "metadata": {},
   "outputs": [],
   "source": [
    "print(np.sum(datList[0],axis=0).shape)"
   ]
  },
  {
   "cell_type": "code",
   "execution_count": null,
   "id": "42a5762a-c795-4ce7-877e-13628e74f184",
   "metadata": {},
   "outputs": [],
   "source": [
    "iniT = 50\n",
    "finT = 70\n",
    "\n",
    "corrI = [0,1,2]\n",
    "\n",
    "fig,ax = plt.subplots(layout=\"constrained\")\n",
    "\n",
    "for i,k in enumerate(datList):\n",
    "    posSum = np.sum(np.sum(k[iniT:finT],axis=0),axis=0)\n",
    "    ax.plot(posList[i],posSum,label=f\"{corrI[i]} [A]\")\n",
    "\n",
    "ax.set_xlabel(\"Vertical Position [mm]\")\n",
    "ax.set_ylabel(f\"Integrated Intensity over bins {iniT}-{finT} [arb.]\")\n",
    "ax.legend()"
   ]
  },
  {
   "cell_type": "code",
   "execution_count": null,
   "id": "6b136ad6-35fb-46a4-9cda-31daa82cddeb",
   "metadata": {},
   "outputs": [],
   "source": []
  }
 ],
 "metadata": {
  "kernelspec": {
   "display_name": "Python 3 (ipykernel)",
   "language": "python",
   "name": "python3"
  },
  "language_info": {
   "codemirror_mode": {
    "name": "ipython",
    "version": 3
   },
   "file_extension": ".py",
   "mimetype": "text/x-python",
   "name": "python",
   "nbconvert_exporter": "python",
   "pygments_lexer": "ipython3",
   "version": "3.8.10"
  }
 },
 "nbformat": 4,
 "nbformat_minor": 5
}
