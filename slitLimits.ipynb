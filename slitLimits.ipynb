{
 "cells": [
  {
   "cell_type": "code",
   "execution_count": null,
   "id": "de52fa9d-bd7e-4f3c-a462-33a207e31883",
   "metadata": {},
   "outputs": [],
   "source": [
    "import numpy as np\n",
    "from matplotlib import pyplot as plt"
   ]
  },
  {
   "cell_type": "code",
   "execution_count": null,
   "id": "f8c20570-e6b7-429e-85f4-18ef806468e4",
   "metadata": {},
   "outputs": [],
   "source": [
    "def passAng(x,V,d2,L,l1,l2,g,E,beta,q=1):\n",
    "    Lt = L + l1 + l2\n",
    "    delP = q*V*L*(L + 2*l2)/(4*g*beta**2*E*Lt)\n",
    "    return(d2/Lt - x/Lt - delP)"
   ]
  },
  {
   "cell_type": "code",
   "execution_count": null,
   "id": "a16526b8-325a-4d2f-82d4-a84209a74da2",
   "metadata": {},
   "outputs": [],
   "source": [
    "#pixe parameters\n",
    "g = 7.4e-3\n",
    "d1 = 2e-4\n",
    "d2 = 6.5e-4\n",
    "L = 95.8e-3\n",
    "l1 = 17e-3\n",
    "l2 = 5e-3\n",
    "\n",
    "#proton parameters\n",
    "pMass = 9.38272089e8 #proton mass in eV\n",
    "T = 5e4 #kinetic energy in eV\n",
    "\n",
    "#relatavistic parameters\n",
    "pGamma = 1 + T/pMass\n",
    "pBeta = np.sqrt(1 - pGamma**-2)\n",
    "pE = pMass + T"
   ]
  },
  {
   "cell_type": "code",
   "execution_count": null,
   "id": "80682c2c-ccb1-48eb-9dc1-67110fba4f5d",
   "metadata": {},
   "outputs": [],
   "source": [
    "x = np.linspace(-d1/2,d1/2,2)\n",
    "xpmax = passAng(x,0e3,d2/2,L,l1,l2,g,pE,pBeta)\n",
    "xpmin = passAng(x,0e3,-d2/2,L,l1,l2,g,pE,pBeta)\n",
    "\n",
    "x = x*1e3\n",
    "xpmax = xpmax*1e3\n",
    "xpmin = xpmin*1e3"
   ]
  },
  {
   "cell_type": "code",
   "execution_count": null,
   "id": "b700faa1-55ac-4543-8e0b-bcdaba0b8609",
   "metadata": {},
   "outputs": [],
   "source": [
    "fig,ax = plt.subplots(layout=\"constrained\")\n",
    "\n",
    "ax.plot(x,xpmax,c=\"b\")\n",
    "ax.plot(x,xpmin,c=\"b\")\n",
    "ax.plot([x[0],x[0]],[xpmin[0],xpmax[0]],c=\"b\")\n",
    "ax.plot([x[1],x[1]],[xpmin[1],xpmax[1]],c=\"b\")\n",
    "ax.set_xlabel(\"Relative Incoming Position [mm]\")\n",
    "ax.set_ylabel(\"Incoming Angle [mrad]\")\n",
    "#plt.savefig(\"passSpace.svg\",format=\"svg\")"
   ]
  },
  {
   "cell_type": "code",
   "execution_count": null,
   "id": "48a4ce60-247e-451c-9059-07843aa2092e",
   "metadata": {},
   "outputs": [],
   "source": []
  }
 ],
 "metadata": {
  "kernelspec": {
   "display_name": "Python 3 (ipykernel)",
   "language": "python",
   "name": "python3"
  },
  "language_info": {
   "codemirror_mode": {
    "name": "ipython",
    "version": 3
   },
   "file_extension": ".py",
   "mimetype": "text/x-python",
   "name": "python",
   "nbconvert_exporter": "python",
   "pygments_lexer": "ipython3",
   "version": "3.8.10"
  }
 },
 "nbformat": 4,
 "nbformat_minor": 5
}
