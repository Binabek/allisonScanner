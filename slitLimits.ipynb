{
 "cells": [
  {
   "cell_type": "code",
   "execution_count": null,
   "id": "de52fa9d-bd7e-4f3c-a462-33a207e31883",
   "metadata": {},
   "outputs": [],
   "source": [
    "import numpy as np\n",
    "from matplotlib import pyplot as plt"
   ]
  },
  {
   "cell_type": "code",
   "execution_count": null,
   "id": "f8c20570-e6b7-429e-85f4-18ef806468e4",
   "metadata": {},
   "outputs": [],
   "source": [
    "def passAng(x,V,d2,L,l1,l2,g,E,beta,q=1):\n",
    "    Lt = L + l1 + l2\n",
    "    delP = q*V*L*(L + 2*l2)/(4*g*beta**2*E*Lt)\n",
    "    return(d2/Lt - x/Lt - delP)"
   ]
  },
  {
   "cell_type": "code",
   "execution_count": null,
   "id": "a16526b8-325a-4d2f-82d4-a84209a74da2",
   "metadata": {},
   "outputs": [],
   "source": [
    "#pixe parameters\n",
    "g = 7.4e-3\n",
    "d1 = 2e-4\n",
    "d2 = 6.5e-4\n",
    "L = 95.8e-3\n",
    "l1 = 17e-3\n",
    "l2 = 5e-3\n",
    "\n",
    "#proton parameters\n",
    "pMass = 9.38272089e8 #proton mass in eV\n",
    "T = 5e4 #kinetic energy in eV\n",
    "\n",
    "#relatavistic parameters\n",
    "pGamma = 1 + T/pMass\n",
    "pBeta = np.sqrt(1 - pGamma**-2)\n",
    "pE = pMass + T"
   ]
  },
  {
   "cell_type": "code",
   "execution_count": null,
   "id": "80682c2c-ccb1-48eb-9dc1-67110fba4f5d",
   "metadata": {},
   "outputs": [],
   "source": [
    "x = np.linspace(-d1/2,d1/2,2)\n",
    "xpmax = passAng(x,0e3,d2/2,L,l1,l2,g,pE,pBeta)\n",
    "xpmin = passAng(x,0e3,-d2/2,L,l1,l2,g,pE,pBeta)\n",
    "\n",
    "x = x*1e3\n",
    "xpmax = xpmax*1e3\n",
    "xpmin = xpmin*1e3"
   ]
  },
  {
   "cell_type": "code",
   "execution_count": null,
   "id": "b700faa1-55ac-4543-8e0b-bcdaba0b8609",
   "metadata": {},
   "outputs": [],
   "source": [
    "fig,ax = plt.subplots(layout=\"constrained\")\n",
    "\n",
    "ax.plot(x,xpmax,c=\"b\")\n",
    "ax.plot(x,xpmin,c=\"b\")\n",
    "ax.plot([x[0],x[0]],[xpmin[0],xpmax[0]],c=\"b\")\n",
    "ax.plot([x[1],x[1]],[xpmin[1],xpmax[1]],c=\"b\")\n",
    "ax.set_xlabel(\"Relative Incoming Position [mm]\")\n",
    "ax.set_ylabel(\"Incoming Angle [mrad]\")\n",
    "#plt.savefig(\"passSpace.svg\",format=\"svg\")"
   ]
  },
  {
   "cell_type": "code",
   "execution_count": null,
   "id": "48a4ce60-247e-451c-9059-07843aa2092e",
   "metadata": {},
   "outputs": [],
   "source": [
    "def xBallistic(s,x_o,ang_o,Eo,gamma,beta,g,V,q=1):\n",
    "    c = 299792458\n",
    "    p1 = q*V/(Eo*g*beta**2)\n",
    "    p2 = gamma*ang_o\n",
    "    return(p1*s**2 + p2*s + x_o)\n",
    "\n",
    "def vertLim(ang,lim,Eo,gamma,beta,g,V,q=1):\n",
    "    nom = g*beta**2*gamma**2*Eo*ang**2\n",
    "    denom = 4*q*V\n",
    "    return(lim + nom/denom)\n",
    "\n",
    "def ballisticLim(x,lim,Eo,gamma,beta,g,V,q=1):\n",
    "    nom = 4*q*V*(x - lim)\n",
    "    denom = g*beta**2*gamma**2*Eo\n",
    "    return(np.sqrt(nom/denom),-np.sqrt(nom/denom))\n",
    "\n",
    "def overboardLim(x,Eo,gamma,beta,ge,V,L,go,\n",
    "                 l1=0,l2=0,a1=0,a2=0,d1=0,d2=0,q=0):\n",
    "    V = abs(V)\n",
    "    \n",
    "    xp_a1_p = (d1/2-x)/(gamma*a1)\n",
    "    xp_a1_m = (-d1/2-x)/(gamma*a1)\n",
    "\n",
    "    xp_s_p = np.sqrt(4*q*(-V)*(x - go/2)/(ge*beta**2*gamma**2*Eo))\n",
    "    xp_s_m = -np.sqrt(4*q*(V)*(x + go/2)/(ge*beta**2*gamma**2*Eo))\n",
    "\n",
    "    xp_l2_p = 0 #more algebra"
   ]
  },
  {
   "cell_type": "code",
   "execution_count": null,
   "id": "1da22ce8-8f27-44fd-b0a4-91409a676d2b",
   "metadata": {},
   "outputs": [],
   "source": [
    "xGapMaxP,xGapMaxM = ballisticLim(x*1e-3,g/2,pMass,pGamma,pBeta,g,-500)\n",
    "\n",
    "ang = np.linspace(xpmin[-1]*1e-3,xpmax[0]*1e-3,100)\n",
    "gapMax = vertLim(ang,g/2,pMass,pGamma,pBeta,g,-5)\n",
    "gapMin = vertLim(ang,-g/2,pMass,pGamma,pBeta,g,5)\n",
    "\n",
    "fig,ax = plt.subplots(layout=\"constrained\")\n",
    "\n",
    "ax.plot(gapMax,ang,c=\"b\")\n",
    "ax.set_xlabel(\"Relative Incoming Position [m]\")\n",
    "ax.set_ylabel(\"Incoming Angle [rad]\")"
   ]
  },
  {
   "cell_type": "code",
   "execution_count": null,
   "id": "adcc41d4-3658-40b2-bbcc-5acf1b111255",
   "metadata": {},
   "outputs": [],
   "source": [
    "iniAng = 100e-3\n",
    "iniV = -800\n",
    "lenArr = np.linspace(0,L,100)\n",
    "\n",
    "traj = xBallistic(lenArr,0,iniAng,pMass,pGamma,pBeta,g,iniV)"
   ]
  },
  {
   "cell_type": "code",
   "execution_count": null,
   "id": "827864ff-7a64-454f-be20-425f5d63d046",
   "metadata": {},
   "outputs": [],
   "source": [
    "plt.plot(lenArr,traj,c=\"b\")"
   ]
  },
  {
   "cell_type": "code",
   "execution_count": null,
   "id": "9c482ba0-306c-4a22-a2a6-69d21feecf01",
   "metadata": {},
   "outputs": [],
   "source": [
    "xpThin = -iniV*L*(L+2*l2)/(2*g*pBeta**2*pE*(L+l2+l1))\n",
    "xpBallistic = -iniV*L*(L+l2)/(g*pBeta**2*pE*(L+l2+l1))\n",
    "\n",
    "xl1Thin = pGamma*l1*xpThin\n",
    "xl1Ballistic = pGamma*l1*xpBallistic\n",
    "\n",
    "trajThin = xBallistic(lenArr,xl1Thin,xpThin,pMass,pGamma,pBeta,g,iniV)\n",
    "trajBallistic = xBallistic(lenArr,xl1Ballistic,xpBallistic,pMass,pGamma,pBeta,g,iniV)\n",
    "\n",
    "xpLThin = iniV*L/(g*pBeta**2*pGamma*pMass) + xpThin\n",
    "xpLBallistic = iniV*L/(g*pBeta**2*pGamma*pMass) + xpBallistic\n",
    "print(xpLThin)\n",
    "\n",
    "xoutThin = pGamma*l2*xpLThin + trajThin[-1]\n",
    "xoutBallistic = pGamma*l2*xpLBallistic + trajBallistic[-1]\n",
    "\n",
    "plotLen = np.concatenate(([0],lenArr + l1,[l1+L+l2]))\n",
    "\n",
    "fullThin = np.concatenate(([0],trajThin,[xoutThin]))\n",
    "fullBallistic = np.concatenate(([0],trajBallistic,[xoutBallistic]))"
   ]
  },
  {
   "cell_type": "code",
   "execution_count": null,
   "id": "f46ccd11-39a9-47d8-90da-d0927e742252",
   "metadata": {},
   "outputs": [],
   "source": [
    "plt.plot(plotLen,fullThin)\n",
    "plt.plot(plotLen,fullBallistic)\n",
    "plt.axvline(l1)"
   ]
  }
 ],
 "metadata": {
  "kernelspec": {
   "display_name": "Python 3 (ipykernel)",
   "language": "python",
   "name": "python3"
  },
  "language_info": {
   "codemirror_mode": {
    "name": "ipython",
    "version": 3
   },
   "file_extension": ".py",
   "mimetype": "text/x-python",
   "name": "python",
   "nbconvert_exporter": "python",
   "pygments_lexer": "ipython3",
   "version": "3.8.10"
  }
 },
 "nbformat": 4,
 "nbformat_minor": 5
}
